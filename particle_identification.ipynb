{
 "cells": [
  {
   "cell_type": "markdown",
   "source": [
    "# Imports"
   ],
   "metadata": {
    "collapsed": false
   }
  },
  {
   "cell_type": "code",
   "execution_count": 78,
   "outputs": [],
   "source": [
    "import os\n",
    "import torch\n",
    "import torch\n",
    "from torch import nn\n",
    "from torchvision import datasets\n",
    "from torch.utils.data import Dataset\n",
    "from torch.utils.data import DataLoader\n",
    "import torchvision.transforms as transforms\n",
    "import psutil\n",
    "import h5py\n",
    "import os\n",
    "import numpy as np\n",
    "import time\n",
    "import copy\n",
    "from torchsummary import summary\n",
    "from torch import optim\n",
    "from torch.optim import lr_scheduler\n",
    "import matplotlib.pyplot as plt\n",
    "from pytorchUtils import *"
   ],
   "metadata": {
    "collapsed": false
   }
  },
  {
   "cell_type": "markdown",
   "source": [
    "# Data Loading"
   ],
   "metadata": {
    "collapsed": false
   }
  },
  {
   "cell_type": "code",
   "execution_count": 1,
   "outputs": [],
   "source": [
    "data_filepath = os.path.join(\"data\", \"CERN\", \"ParticleClassification\")\n",
    "photon_file = \"SinglePhotonPt50_IMGCROPS_n249k_RHv1.hdf5\"\n",
    "electron_file = \"SingleElectronPt50_IMGCROPS_n249k_RHv1.hdf5\"\n",
    "\n",
    "photon_filepath = os.path.join(data_filepath, photon_file)\n",
    "electron_filepath = os.path.join(data_filepath, electron_file)\n",
    "\n",
    "electronFile = h5py.File(electron_filepath, \"r\")\n",
    "photonFile = h5py.File(photon_filepath, \"r\")\n",
    "\n",
    "class PhotonElectronDataset(Dataset):\n",
    "    def __init__(self, _electron_filepath, _photon_filepath, transform=None, target_transform=None, low = 0, high = 1):\n",
    "        global seed\n",
    "        np.random.seed(seed)\n",
    "\n",
    "        electronFile = h5py.File(_electron_filepath, \"r\")\n",
    "        photonFile = h5py.File(_photon_filepath, \"r\")\n",
    "\n",
    "        ElectronX, ElectronY = electronFile[\"X\"], electronFile[\"y\"]\n",
    "        PhotonX, PhotonY = photonFile[\"X\"], photonFile[\"y\"]\n",
    "\n",
    "        indexes = np.random.permutation(ElectronX.shape[0])\n",
    "\n",
    "        _low = int(low * len(indexes))\n",
    "        _high = int(high * len(indexes))\n",
    "\n",
    "        self.X = np.concatenate([ElectronX[_low:_high, :,:,:], PhotonX[_low:_high, :,:,:]])\n",
    "        self.Y = np.concatenate([ElectronY[_low:_high], PhotonY[_low:_high]])\n",
    "        self.transform = transform\n",
    "\n",
    "    def __len__(self):\n",
    "        return len(self.X)\n",
    "\n",
    "    def __getitem__(self, idx):\n",
    "        #image = torch.from_numpy(self.X[idx, :, :, :])\n",
    "        image = self.X[idx, :, :, :]\n",
    "\n",
    "        label = self.Y[idx,]\n",
    "        if self.transform:\n",
    "            image = self.transform(image)\n",
    "        return image, label\n"
   ],
   "metadata": {
    "collapsed": false
   }
  },
  {
   "cell_type": "code",
   "execution_count": 2,
   "outputs": [
    {
     "name": "stdout",
     "output_type": "stream",
     "text": [
      "Before 9.446773529052734\n",
      "Training dataset : 398400\n",
      "Validation dataset : 99600\n",
      "After 5.624786376953125\n"
     ]
    }
   ],
   "source": [
    "seed = 42\n",
    "train_test_split = 0.8\n",
    "\n",
    "print(f\"Before {psutil.virtual_memory()[1] / (1024 * 1024  * 1024)}\")\n",
    "training_data = PhotonElectronDataset(electron_filepath, photon_filepath, transform=transforms.Compose([transforms.ToTensor()]), low=0, high=train_test_split)\n",
    "validation_data = PhotonElectronDataset(electron_filepath, photon_filepath, transform=transforms.Compose([transforms.ToTensor()]), low=train_test_split, high=1)\n",
    "\n",
    "print(f\"Training dataset : {len(training_data)}\")\n",
    "print(f\"Validation dataset : {len(validation_data)}\")\n",
    "\n",
    "train_dataloader = DataLoader(training_data, batch_size=64, shuffle=True)\n",
    "validation_dataloader = DataLoader(validation_data, batch_size=64, shuffle=True)\n",
    "\n",
    "print(f\"After {psutil.virtual_memory()[1] / (1024 * 1024  * 1024)}\")"
   ],
   "metadata": {
    "collapsed": false
   }
  },
  {
   "cell_type": "markdown",
   "source": [
    "# Util functions"
   ],
   "metadata": {
    "collapsed": false
   }
  },
  {
   "cell_type": "code",
   "execution_count": 58,
   "outputs": [
    {
     "name": "stdout",
     "output_type": "stream",
     "text": [
      "Device Used : cuda:0\n"
     ]
    }
   ],
   "source": [
    "device = torch.device(\"cuda:0\" if torch.cuda.is_available() else \"cpu\")\n",
    "\n",
    "print(f\"Device Used : {device}\")\n",
    "\n",
    "def train_model(model, criterion, optimizer, scheduler, dataloaders, dataset_sizes, saveTo, num_epochs=25):\n",
    "    since = time.time()\n",
    "\n",
    "    returnDict = {\"trainingLoss\" : [], \"validationLoss\" : [], \"trainingAccuracy\" : [], \"validationAccuracy\" : [], \"epochs\" : []}\n",
    "    best_model_wts = copy.deepcopy(model.state_dict())\n",
    "    best_acc = 0.0\n",
    "\n",
    "    for epoch in range(num_epochs):\n",
    "        print(f'Epoch {epoch}/{num_epochs - 1}')\n",
    "        print('-' * 10)\n",
    "        returnDict[\"epochs\"].append(epoch)\n",
    "\n",
    "        # Each epoch has a training and validation phase\n",
    "        for phase in ['train', 'val']:\n",
    "            if phase == 'train':\n",
    "                model.train()  # Set model to training mode\n",
    "            else:\n",
    "                model.eval()   # Set model to evaluate mode\n",
    "\n",
    "            running_loss = 0.0\n",
    "            running_corrects = 0\n",
    "\n",
    "            # Iterate over data.\n",
    "            for inputs, labels in dataloaders[phase]:\n",
    "                inputs = inputs.to(device)\n",
    "                labels = labels.to(device)\n",
    "                labels = labels.long()\n",
    "\n",
    "                # zero the parameter gradients\n",
    "                optimizer.zero_grad()\n",
    "\n",
    "                # forward\n",
    "                # track history if only in train\n",
    "                with torch.set_grad_enabled(phase == 'train'):\n",
    "                    outputs = model(inputs)\n",
    "                    _, preds = torch.max(outputs, 1)\n",
    "                    loss = criterion(outputs, labels)\n",
    "\n",
    "                    # backward + optimize only if in training phase\n",
    "                    if phase == 'train':\n",
    "                        loss.backward()\n",
    "                        optimizer.step()\n",
    "\n",
    "                # statistics\n",
    "                running_loss += loss.item() * inputs.size(0)\n",
    "                running_corrects += torch.sum(preds == labels.data)\n",
    "            if phase == 'train':\n",
    "                scheduler.step()\n",
    "\n",
    "            epoch_loss = running_loss / dataset_sizes[phase]\n",
    "            epoch_acc = running_corrects.double() / dataset_sizes[phase]\n",
    "\n",
    "            if phase == \"train\":\n",
    "                returnDict[\"trainingLoss\"].append(epoch_loss)\n",
    "                returnDict[\"trainingAccuracy\"].append(epoch_acc.cpu().item())\n",
    "            else:\n",
    "                returnDict[\"validationLoss\"].append(epoch_loss)\n",
    "                returnDict[\"validationAccuracy\"].append(epoch_acc.cpu().item())\n",
    "\n",
    "            print(f'{phase} Loss: {epoch_loss:.4f} Acc: {epoch_acc:.4f}')\n",
    "\n",
    "            # deep copy the model\n",
    "            if phase == 'val' and epoch_acc > best_acc:\n",
    "                best_acc = epoch_acc\n",
    "                best_model_wts = copy.deepcopy(model.state_dict())\n",
    "                torch.save(model, saveTo)\n",
    "\n",
    "        print()\n",
    "\n",
    "    time_elapsed = time.time() - since\n",
    "    print(f'Training complete in {time_elapsed // 60:.0f}m {time_elapsed % 60:.0f}s')\n",
    "    print(f'Best val Acc: {best_acc:4f}')\n",
    "\n",
    "    # load best model weights\n",
    "    model.load_state_dict(best_model_wts)\n",
    "    returnDict[\"best_model\"] = model\n",
    "    return returnDict\n",
    "\n"
   ],
   "metadata": {
    "collapsed": false
   }
  },
  {
   "cell_type": "code",
   "execution_count": 71,
   "outputs": [],
   "source": [
    "def plotResults(results):\n",
    "    plt.figure(figsize=(16,8))\n",
    "    plt.subplot(2,1, 1)\n",
    "    plt.plot(results['epochs'], results['trainingLoss'], label=\"training Loss\")\n",
    "    plt.plot(results['epochs'], results['validationLoss'], label=\"validation Loss\")\n",
    "    plt.legend()\n",
    "\n",
    "    plt.subplot(2,1, 2)\n",
    "    plt.plot(results['epochs'], results['trainingAccuracy'], label=\"training Accuracy\")\n",
    "    plt.plot(results['epochs'], results['validationAccuracy'], label=\"validation Accuracy\")\n",
    "    plt.legend()\n",
    "    plt.show()"
   ],
   "metadata": {
    "collapsed": false
   }
  },
  {
   "cell_type": "markdown",
   "source": [
    "# Anything Working\n",
    "\n",
    "## Model definition"
   ],
   "metadata": {
    "collapsed": false
   }
  },
  {
   "cell_type": "code",
   "execution_count": 59,
   "outputs": [
    {
     "name": "stdout",
     "output_type": "stream",
     "text": [
      "----------------------------------------------------------------\n",
      "        Layer (type)               Output Shape         Param #\n",
      "================================================================\n",
      "           Flatten-1                 [-1, 2048]               0\n",
      "            Linear-2                  [-1, 256]         524,544\n",
      "              ReLU-3                  [-1, 256]               0\n",
      "            Linear-4                  [-1, 256]          65,792\n",
      "              ReLU-5                  [-1, 256]               0\n",
      "            Linear-6                    [-1, 2]             514\n",
      "================================================================\n",
      "Total params: 590,850\n",
      "Trainable params: 590,850\n",
      "Non-trainable params: 0\n",
      "----------------------------------------------------------------\n",
      "Input size (MB): 0.01\n",
      "Forward/backward pass size (MB): 0.02\n",
      "Params size (MB): 2.25\n",
      "Estimated Total Size (MB): 2.29\n",
      "----------------------------------------------------------------\n"
     ]
    }
   ],
   "source": [
    "class BasicNN(nn.Module):\n",
    "    def __init__(self):\n",
    "        super(BasicNN, self).__init__()\n",
    "        self.flatten = nn.Flatten()\n",
    "        self.linear_relu_stack = nn.Sequential(\n",
    "            nn.Linear(2* 32 * 32, 256),\n",
    "            nn.ReLU(),\n",
    "            nn.Linear(256, 256),\n",
    "            nn.ReLU(),\n",
    "            nn.Linear(256, 2)\n",
    "        )\n",
    "\n",
    "    def forward(self, x):\n",
    "        x = self.flatten(x)\n",
    "        logits = self.linear_relu_stack(x)\n",
    "        return logits\n",
    "\n",
    "\n",
    "model_ft = BasicNN()\n",
    "model_ft = model_ft.to(device)\n",
    "\n",
    "summary(model_ft, input_size=(32,32, 2))"
   ],
   "metadata": {
    "collapsed": false
   }
  },
  {
   "cell_type": "markdown",
   "source": [
    "## Training"
   ],
   "metadata": {
    "collapsed": false
   }
  },
  {
   "cell_type": "code",
   "execution_count": 73,
   "outputs": [
    {
     "name": "stdout",
     "output_type": "stream",
     "text": [
      "Epoch 0/24\n",
      "----------\n",
      "train Loss: 0.5037 Acc: 0.7527\n",
      "val Loss: 0.6585 Acc: 0.6705\n",
      "\n",
      "Epoch 1/24\n",
      "----------\n",
      "train Loss: 0.4805 Acc: 0.7666\n",
      "val Loss: 0.6892 Acc: 0.6638\n",
      "\n",
      "Epoch 2/24\n",
      "----------\n",
      "train Loss: 0.4585 Acc: 0.7799\n",
      "val Loss: 0.7336 Acc: 0.6643\n",
      "\n",
      "Epoch 3/24\n",
      "----------\n",
      "train Loss: 0.4384 Acc: 0.7909\n",
      "val Loss: 0.7562 Acc: 0.6619\n",
      "\n",
      "Epoch 4/24\n",
      "----------\n",
      "train Loss: 0.4205 Acc: 0.8017\n",
      "val Loss: 0.8071 Acc: 0.6566\n",
      "\n",
      "Epoch 5/24\n",
      "----------\n",
      "train Loss: 0.4037 Acc: 0.8101\n",
      "val Loss: 0.8605 Acc: 0.6542\n",
      "\n",
      "Epoch 6/24\n",
      "----------\n",
      "train Loss: 0.3890 Acc: 0.8186\n",
      "val Loss: 0.8877 Acc: 0.6523\n",
      "\n",
      "Epoch 7/24\n",
      "----------\n",
      "train Loss: 0.3293 Acc: 0.8524\n",
      "val Loss: 0.9989 Acc: 0.6532\n",
      "\n",
      "Epoch 8/24\n",
      "----------\n",
      "train Loss: 0.3103 Acc: 0.8621\n",
      "val Loss: 1.0479 Acc: 0.6500\n",
      "\n",
      "Epoch 9/24\n",
      "----------\n",
      "train Loss: 0.3001 Acc: 0.8671\n",
      "val Loss: 1.0994 Acc: 0.6502\n",
      "\n",
      "Epoch 10/24\n",
      "----------\n",
      "train Loss: 0.2926 Acc: 0.8712\n",
      "val Loss: 1.1365 Acc: 0.6495\n",
      "\n",
      "Epoch 11/24\n",
      "----------\n",
      "train Loss: 0.2864 Acc: 0.8740\n",
      "val Loss: 1.1723 Acc: 0.6491\n",
      "\n",
      "Epoch 12/24\n",
      "----------\n",
      "train Loss: 0.2812 Acc: 0.8766\n",
      "val Loss: 1.2090 Acc: 0.6480\n",
      "\n",
      "Epoch 13/24\n",
      "----------\n",
      "train Loss: 0.2764 Acc: 0.8791\n",
      "val Loss: 1.2493 Acc: 0.6466\n",
      "\n",
      "Epoch 14/24\n",
      "----------\n",
      "train Loss: 0.2655 Acc: 0.8855\n",
      "val Loss: 1.2608 Acc: 0.6470\n",
      "\n",
      "Epoch 15/24\n",
      "----------\n",
      "train Loss: 0.2645 Acc: 0.8861\n",
      "val Loss: 1.2686 Acc: 0.6471\n",
      "\n",
      "Epoch 16/24\n",
      "----------\n",
      "train Loss: 0.2639 Acc: 0.8861\n",
      "val Loss: 1.2737 Acc: 0.6467\n",
      "\n",
      "Epoch 17/24\n",
      "----------\n",
      "train Loss: 0.2633 Acc: 0.8864\n",
      "val Loss: 1.2795 Acc: 0.6469\n",
      "\n",
      "Epoch 18/24\n",
      "----------\n",
      "train Loss: 0.2628 Acc: 0.8867\n",
      "val Loss: 1.2849 Acc: 0.6469\n",
      "\n",
      "Epoch 19/24\n",
      "----------\n",
      "train Loss: 0.2623 Acc: 0.8869\n",
      "val Loss: 1.2906 Acc: 0.6471\n",
      "\n",
      "Epoch 20/24\n",
      "----------\n",
      "train Loss: 0.2618 Acc: 0.8871\n",
      "val Loss: 1.2945 Acc: 0.6467\n",
      "\n",
      "Epoch 21/24\n",
      "----------\n",
      "train Loss: 0.2605 Acc: 0.8878\n",
      "val Loss: 1.2951 Acc: 0.6468\n",
      "\n",
      "Epoch 22/24\n",
      "----------\n",
      "train Loss: 0.2605 Acc: 0.8878\n",
      "val Loss: 1.2957 Acc: 0.6467\n",
      "\n",
      "Epoch 23/24\n",
      "----------\n",
      "train Loss: 0.2604 Acc: 0.8878\n",
      "val Loss: 1.2963 Acc: 0.6467\n",
      "\n",
      "Epoch 24/24\n",
      "----------\n",
      "train Loss: 0.2604 Acc: 0.8878\n",
      "val Loss: 1.2969 Acc: 0.6468\n",
      "\n",
      "Training complete in 8m 20s\n",
      "Best val Acc: 0.670452\n"
     ]
    }
   ],
   "source": [
    "criterion = nn.CrossEntropyLoss()\n",
    "\n",
    "# Observe that all parameters are being optimized\n",
    "optimizer_ft = optim.Adam(model_ft.parameters())\n",
    "\n",
    "# Decay LR by a factor of 0.1 every 7 epochs\n",
    "exp_lr_scheduler = lr_scheduler.StepLR(optimizer_ft, step_size=7, gamma=0.1)\n",
    "\n",
    "results = train_model(model_ft, criterion, optimizer_ft, exp_lr_scheduler,{\"train\" : train_dataloader, \"val\": validation_dataloader},\n",
    "                       {\"train\" : len(training_data), \"val\" : len(validation_data)}, saveTo=\"basicNN\", num_epochs=25)"
   ],
   "metadata": {
    "collapsed": false
   }
  },
  {
   "cell_type": "markdown",
   "source": [
    "## Plots"
   ],
   "metadata": {
    "collapsed": false
   }
  },
  {
   "cell_type": "code",
   "execution_count": 74,
   "outputs": [
    {
     "data": {
      "text/plain": "<Figure size 1152x576 with 2 Axes>",
      "image/png": "[encoded data removed]"
     },
     "metadata": {
      "needs_background": "light"
     },
     "output_type": "display_data"
    }
   ],
   "source": [
    "plotResults(results)"
   ],
   "metadata": {
    "collapsed": false
   }
  },
  {
   "cell_type": "markdown",
   "source": [
    "# Maxout Conv"
   ],
   "metadata": {
    "collapsed": false
   }
  },
  {
   "cell_type": "code",
   "execution_count": 119,
   "outputs": [
    {
     "name": "stdout",
     "output_type": "stream",
     "text": [
      "----------------------------------------------------------------\n",
      "        Layer (type)               Output Shape         Param #\n",
      "================================================================\n",
      "           Flatten-1                 [-1, 2048]               0\n",
      "            Linear-2                  [-1, 256]         524,544\n",
      "         MaxoutMLP-3                  [-1, 256]               0\n",
      "            Linear-4                  [-1, 256]          65,792\n",
      "         MaxoutMLP-5                  [-1, 128]               0\n",
      "            Linear-6                    [-1, 2]             258\n",
      "================================================================\n",
      "Total params: 590,594\n",
      "Trainable params: 590,594\n",
      "Non-trainable params: 0\n",
      "----------------------------------------------------------------\n",
      "Input size (MB): 0.01\n",
      "Forward/backward pass size (MB): 0.02\n",
      "Params size (MB): 2.25\n",
      "Estimated Total Size (MB): 2.28\n",
      "----------------------------------------------------------------\n"
     ]
    }
   ],
   "source": [
    "import pytorchUtils\n",
    "\n",
    "from importlib import reload\n",
    "reload(pytorchUtils)\n",
    "\n",
    "class MLP_with_Maxout(nn.Module):\n",
    "    def __init__(self):\n",
    "        super(MLP_with_Maxout, self).__init__()\n",
    "        self.flatten = nn.Flatten()\n",
    "        self.linear_relu_stack = nn.Sequential(\n",
    "            nn.Linear(2 * 32 * 32, 256),\n",
    "            pytorchUtils.MaxoutMLP(256, 5, 256),\n",
    "            nn.Linear(256, 256),\n",
    "            pytorchUtils.MaxoutMLP(256, 5, 128),\n",
    "            nn.Linear(128, 2)\n",
    "        )\n",
    "\n",
    "    def forward(self, x):\n",
    "        x = self.flatten(x)\n",
    "        logits = self.linear_relu_stack(x)\n",
    "        return logits\n",
    "\n",
    "\n",
    "model_ft = MLP_with_Maxout()\n",
    "model_ft = model_ft.to(device)\n",
    "\n",
    "summary(model_ft, input_size=(32, 32, 2))\n",
    "## Training"
   ],
   "metadata": {
    "collapsed": false
   }
  },
  {
   "cell_type": "markdown",
   "source": [
    "# Training"
   ],
   "metadata": {
    "collapsed": false
   }
  },
  {
   "cell_type": "code",
   "execution_count": null,
   "outputs": [
    {
     "name": "stdout",
     "output_type": "stream",
     "text": [
      "Epoch 0/24\n",
      "----------\n",
      "train Loss: 0.6499 Acc: 0.6251\n",
      "val Loss: 0.6388 Acc: 0.6417\n",
      "\n",
      "Epoch 1/24\n",
      "----------\n",
      "train Loss: 0.6273 Acc: 0.6549\n",
      "val Loss: 0.6214 Acc: 0.6601\n",
      "\n",
      "Epoch 2/24\n",
      "----------\n",
      "train Loss: 0.6089 Acc: 0.6769\n",
      "val Loss: 0.6134 Acc: 0.6753\n",
      "\n",
      "Epoch 3/24\n",
      "----------\n",
      "train Loss: 0.5964 Acc: 0.6889\n",
      "val Loss: 0.6041 Acc: 0.6828\n",
      "\n",
      "Epoch 4/24\n",
      "----------\n",
      "train Loss: 0.5877 Acc: 0.6959\n",
      "val Loss: 0.6020 Acc: 0.6824\n",
      "\n",
      "Epoch 5/24\n",
      "----------\n",
      "train Loss: 0.5800 Acc: 0.7025\n",
      "val Loss: 0.5998 Acc: 0.6861\n",
      "\n",
      "Epoch 6/24\n",
      "----------\n",
      "train Loss: 0.5739 Acc: 0.7072\n",
      "val Loss: 0.5933 Acc: 0.6921\n",
      "\n",
      "Epoch 7/24\n",
      "----------\n",
      "train Loss: 0.5448 Acc: 0.7297\n",
      "val Loss: 0.5817 Acc: 0.7066\n",
      "\n",
      "Epoch 8/24\n",
      "----------\n",
      "train Loss: 0.5360 Acc: 0.7361\n",
      "val Loss: 0.5841 Acc: 0.7063\n",
      "\n",
      "Epoch 9/24\n",
      "----------\n",
      "train Loss: 0.5305 Acc: 0.7402\n",
      "val Loss: 0.5861 Acc: 0.7059\n",
      "\n",
      "Epoch 10/24\n",
      "----------\n",
      "train Loss: 0.5253 Acc: 0.7434\n",
      "val Loss: 0.5895 Acc: 0.7058\n",
      "\n",
      "Epoch 11/24\n",
      "----------\n",
      "train Loss: 0.5198 Acc: 0.7463\n",
      "val Loss: 0.5947 Acc: 0.7028\n",
      "\n",
      "Epoch 12/24\n",
      "----------\n",
      "train Loss: 0.5137 Acc: 0.7503\n",
      "val Loss: 0.5976 Acc: 0.7023\n",
      "\n",
      "Epoch 13/24\n",
      "----------\n",
      "train Loss: 0.5072 Acc: 0.7546\n",
      "val Loss: 0.6076 Acc: 0.7003\n",
      "\n",
      "Epoch 14/24\n",
      "----------\n"
     ]
    }
   ],
   "source": [
    "criterion = nn.CrossEntropyLoss()\n",
    "\n",
    "# Observe that all parameters are being optimized\n",
    "optimizer_ft = optim.Adam(model_ft.parameters())\n",
    "\n",
    "# Decay LR by a factor of 0.1 every 7 epochs\n",
    "exp_lr_scheduler = lr_scheduler.StepLR(optimizer_ft, step_size=7, gamma=0.1)\n",
    "\n",
    "results = train_model(model_ft, criterion, optimizer_ft, exp_lr_scheduler,{\"train\" : train_dataloader, \"val\": validation_dataloader},\n",
    "                       {\"train\" : len(training_data), \"val\" : len(validation_data)}, saveTo=\"basicNN\", num_epochs=25)"
   ],
   "metadata": {
    "collapsed": false,
    "pycharm": {
     "is_executing": true
    }
   }
  },
  {
   "cell_type": "code",
   "execution_count": null,
   "outputs": [],
   "source": [
    "plotResults(results)"
   ],
   "metadata": {
    "collapsed": false,
    "pycharm": {
     "is_executing": true
    }
   }
  },
  {
   "cell_type": "markdown",
   "source": [
    "# OK performance classical methods"
   ],
   "metadata": {
    "collapsed": false
   }
  },
  {
   "cell_type": "code",
   "execution_count": 107,
   "outputs": [
    {
     "ename": "TypeError",
     "evalue": "__init__() takes 1 positional argument but 3 were given",
     "output_type": "error",
     "traceback": [
      "\u001B[0;31m---------------------------------------------------------------------------\u001B[0m",
      "\u001B[0;31mTypeError\u001B[0m                                 Traceback (most recent call last)",
      "\u001B[0;32m/tmp/ipykernel_9159/1724347661.py\u001B[0m in \u001B[0;36m<module>\u001B[0;34m\u001B[0m\n\u001B[1;32m      1\u001B[0m \u001B[0;32mfrom\u001B[0m \u001B[0mpytorchUtils\u001B[0m \u001B[0;32mimport\u001B[0m \u001B[0mMaxoutMLP\u001B[0m\u001B[0;34m\u001B[0m\u001B[0;34m\u001B[0m\u001B[0m\n\u001B[0;32m----> 2\u001B[0;31m \u001B[0mMaxoutMLP\u001B[0m\u001B[0;34m(\u001B[0m\u001B[0;36m1\u001B[0m\u001B[0;34m,\u001B[0m \u001B[0;36m2\u001B[0m\u001B[0;34m)\u001B[0m\u001B[0;34m\u001B[0m\u001B[0;34m\u001B[0m\u001B[0m\n\u001B[0m",
      "\u001B[0;31mTypeError\u001B[0m: __init__() takes 1 positional argument but 3 were given"
     ]
    }
   ],
   "source": [
    "from pytorchUtils import MaxoutMLP\n",
    "MaxoutMLP(1, 2)"
   ],
   "metadata": {
    "collapsed": false
   }
  },
  {
   "cell_type": "markdown",
   "source": [
    "# Vision Transformer"
   ],
   "metadata": {
    "collapsed": false
   }
  },
  {
   "cell_type": "code",
   "execution_count": 99,
   "outputs": [
    {
     "ename": "TypeError",
     "evalue": "__init__() takes 1 positional argument but 3 were given",
     "output_type": "error",
     "traceback": [
      "\u001B[0;31m---------------------------------------------------------------------------\u001B[0m",
      "\u001B[0;31mTypeError\u001B[0m                                 Traceback (most recent call last)",
      "\u001B[0;32m/tmp/ipykernel_9159/2141324737.py\u001B[0m in \u001B[0;36m<module>\u001B[0;34m\u001B[0m\n\u001B[0;32m----> 1\u001B[0;31m \u001B[0mMaxoutMLP\u001B[0m\u001B[0;34m(\u001B[0m\u001B[0;36m1\u001B[0m\u001B[0;34m,\u001B[0m\u001B[0;36m2\u001B[0m\u001B[0;34m)\u001B[0m\u001B[0;34m\u001B[0m\u001B[0;34m\u001B[0m\u001B[0m\n\u001B[0m",
      "\u001B[0;31mTypeError\u001B[0m: __init__() takes 1 positional argument but 3 were given"
     ]
    }
   ],
   "source": [
    "from importlib import reload\n",
    "reload(pytorchUtils)"
   ],
   "metadata": {
    "collapsed": false
   }
  },
  {
   "cell_type": "markdown",
   "source": [
    "# Graph Neural Network"
   ],
   "metadata": {
    "collapsed": false
   }
  },
  {
   "cell_type": "code",
   "execution_count": 24,
   "outputs": [
    {
     "name": "stdout",
     "output_type": "stream",
     "text": [
      "0.7319939418114051\n",
      "[9 7 0 3 5 8 2 1 6 4]\n"
     ]
    }
   ],
   "source": [
    "print(np.random.random())\n",
    "print(np.random.permutation(10))"
   ],
   "metadata": {
    "collapsed": false
   }
  }
 ],
 "metadata": {
  "kernelspec": {
   "display_name": "Python 3",
   "language": "python",
   "name": "python3"
  },
  "language_info": {
   "codemirror_mode": {
    "name": "ipython",
    "version": 2
   },
   "file_extension": ".py",
   "mimetype": "text/x-python",
   "name": "python",
   "nbconvert_exporter": "python",
   "pygments_lexer": "ipython2",
   "version": "2.7.6"
  }
 },
 "nbformat": 4,
 "nbformat_minor": 0
}
